{
  "nbformat": 4,
  "nbformat_minor": 0,
  "metadata": {
    "colab": {
      "provenance": [],
      "authorship_tag": "ABX9TyOsM3WHfiLK/paRlmmr8HHM",
      "include_colab_link": true
    },
    "kernelspec": {
      "name": "python3",
      "display_name": "Python 3"
    },
    "language_info": {
      "name": "python"
    }
  },
  "cells": [
    {
      "cell_type": "markdown",
      "metadata": {
        "id": "view-in-github",
        "colab_type": "text"
      },
      "source": [
        "<a href=\"https://colab.research.google.com/github/12akankshabhagat/demo/blob/main/Number_Guessing_Game_by_Akanksha.ipynb\" target=\"_parent\"><img src=\"https://colab.research.google.com/assets/colab-badge.svg\" alt=\"Open In Colab\"/></a>"
      ]
    },
    {
      "cell_type": "code",
      "execution_count": null,
      "metadata": {
        "id": "S0S95VmRXKoV"
      },
      "outputs": [],
      "source": [
        "### Number Guessing Game\n",
        "##  I created a game that guesses a secret numeber, if guessed number is correct user win the game otherwise loses"
      ]
    },
    {
      "cell_type": "code",
      "source": [
        "import random\n",
        "\n",
        "def play_number_guessing_game():\n",
        "\n",
        "  # games should keep a random num between  1-100.\n",
        "  secret_number = random.randint(1,100)\n",
        "\n",
        "  # it should ask people to make guess max 7 times\n",
        "  guesses_left = 7\n",
        "\n",
        "  print(\"welcome to Number Guessing Game!\")\n",
        "  print(' i have guessed number between 0 and 100 , can you guess the right?')\n",
        "\n",
        "  #for each guess, games should reply to less pr too high\n",
        "  # if the user is able to guess , then user wins else loses\n",
        "\n",
        "  while guesses_left >0:\n",
        "    guess = int(input(\"Enter your guess: \"))\n",
        "    if guess == secret_number:\n",
        "      print(f\"congratulations! you guessed the number {secret_number} correctly!\")\n",
        "      break\n",
        "    elif guess < secret_number:\n",
        "      print(\"too low! Try again.\")\n",
        "    else:\n",
        "      print(\"Too high! Try again.\")\n",
        "    guesses_left -= 1\n",
        "    if guesses_left == 0:\n",
        "            print(f\"Sorry, you've run out of guesses. The correct number was {secret_number}.\")\n",
        "play_number_guessing_game()\n"
      ],
      "metadata": {
        "colab": {
          "base_uri": "https://localhost:8080/"
        },
        "id": "Cwq3Ja6uYrI9",
        "outputId": "c80b6b87-33fd-41ea-8424-465eef598511"
      },
      "execution_count": null,
      "outputs": [
        {
          "output_type": "stream",
          "name": "stdout",
          "text": [
            "welcome to Number Guessing Game!\n",
            " i have guessed number between 0 and 100 , can you guess the right?\n",
            "Enter your guess: 50\n",
            "too low! Try again.\n",
            "Enter your guess: 60\n",
            "too low! Try again.\n",
            "Enter your guess: 75\n",
            "too low! Try again.\n",
            "Enter your guess: 90\n",
            "Too high! Try again.\n",
            "Enter your guess: 80\n",
            "Too high! Try again.\n",
            "Enter your guess: 78\n",
            "Too high! Try again.\n",
            "Enter your guess: 76\n",
            "congratulations! you guessed the number 76 correctly!\n"
          ]
        }
      ]
    },
    {
      "cell_type": "code",
      "source": [
        "## The game allows the user 7 attempts to guess the correct number. If the user guesses correctly within these attempts, they win; otherwise, they lose."
      ],
      "metadata": {
        "id": "DK7VKLQSZXVL"
      },
      "execution_count": null,
      "outputs": []
    },
    {
      "cell_type": "code",
      "source": [
        "## Once again\n",
        "\n",
        "import random\n",
        "\n",
        "def play_number_guessing_game():\n",
        "\n",
        "  # games should keep a random num between  1-100.\n",
        "  secret_number = random.randint(1,100)\n",
        "\n",
        "  # it should ask people to make guess max 7 times\n",
        "  guesses_left = 7\n",
        "\n",
        "  print(\"welcome to Number Guessing Game!\")\n",
        "  print(' i have guessed number between 0 and 100 , can you guess the right?')\n",
        "\n",
        "  #for each guess, games should reply to less pr too high\n",
        "  # if the user is able to guess , then user wins else loses\n",
        "\n",
        "  while guesses_left >0:\n",
        "    guess = int(input(\"Enter your guess: \"))\n",
        "    if guess == secret_number:\n",
        "      print(f\"congratulations! you guessed the number {secret_number} correctly!\")\n",
        "      break\n",
        "    elif guess < secret_number:\n",
        "      print(\"too low! Try again.\")\n",
        "    else:\n",
        "      print(\"Too high! Try again.\")\n",
        "    guesses_left -= 1\n",
        "    if guesses_left == 0:\n",
        "            print(f\"Sorry, you've run out of guesses. The correct number was {secret_number}.\")\n",
        "play_number_guessing_game()\n",
        "\n"
      ],
      "metadata": {
        "id": "OCzOA8s8a5QV",
        "colab": {
          "base_uri": "https://localhost:8080/"
        },
        "outputId": "5da55f96-8060-4f70-8078-ed4e082ece49"
      },
      "execution_count": null,
      "outputs": [
        {
          "output_type": "stream",
          "name": "stdout",
          "text": [
            "welcome to Number Guessing Game!\n",
            " i have guessed number between 0 and 100 , can you guess the right?\n",
            "Enter your guess: 25\n",
            "too low! Try again.\n",
            "Enter your guess: 30\n",
            "too low! Try again.\n",
            "Enter your guess: 40\n",
            "Too high! Try again.\n",
            "Enter your guess: 38\n",
            "too low! Try again.\n",
            "Enter your guess: 39\n",
            "congratulations! you guessed the number 39 correctly!\n"
          ]
        }
      ]
    },
    {
      "cell_type": "code",
      "source": [],
      "metadata": {
        "id": "MzCflf3Jbg1X"
      },
      "execution_count": null,
      "outputs": []
    }
  ]
}